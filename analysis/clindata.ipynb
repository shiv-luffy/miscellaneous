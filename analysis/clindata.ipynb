{
 "cells": [
  {
   "cell_type": "code",
   "execution_count": 1,
   "metadata": {},
   "outputs": [],
   "source": [
    "import pandas as pd"
   ]
  },
  {
   "cell_type": "code",
   "execution_count": 2,
   "metadata": {},
   "outputs": [
    {
     "name": "stderr",
     "output_type": "stream",
     "text": [
      "/home/dell/anaconda3/lib/python3.7/site-packages/IPython/core/interactiveshell.py:3146: DtypeWarning: Columns (13,14,15,18,19,20,21,22) have mixed types.Specify dtype option on import or set low_memory=False.\n",
      "  interactivity=interactivity, compiler=compiler, result=result)\n"
     ]
    }
   ],
   "source": [
    "#reading data from CLINVITAE\n",
    "df = pd.read_csv('variant_results.tsv', sep='\\t', encoding = \"ISO-8859-1\")"
   ]
  },
  {
   "cell_type": "code",
   "execution_count": 3,
   "metadata": {},
   "outputs": [
    {
     "data": {
      "text/plain": [
       "Index(['Gene', 'Nucleotide Change', 'Protein Change', 'Other Mappings',\n",
       "       'Alias', 'Transcripts', 'Region', 'Reported Classification',\n",
       "       'Inferred Classification', 'Source', 'Last Evaluated', 'Last Updated',\n",
       "       'URL', 'Submitter Comment', 'Assembly', 'Chr', 'Genomic Start',\n",
       "       'Genomic Stop', 'Ref', 'Alt', 'Accession', 'Reported Ref',\n",
       "       'Reported Alt'],\n",
       "      dtype='object')"
      ]
     },
     "execution_count": 3,
     "metadata": {},
     "output_type": "execute_result"
    }
   ],
   "source": [
    "df.columns"
   ]
  },
  {
   "cell_type": "code",
   "execution_count": 4,
   "metadata": {},
   "outputs": [],
   "source": [
    "#reading desired gene list\n",
    "df1 = pd.read_excel('/media/dell/E812DF3812DF0B08/FTP_Download/updated_Annotation_files/85_gene.xlsx')"
   ]
  },
  {
   "cell_type": "code",
   "execution_count": 5,
   "metadata": {},
   "outputs": [],
   "source": [
    "#merge dataframe to get data of your desired gene\n",
    "df.rename(columns={'Gene':'GENE_NAME'}, inplace=True)\n",
    "data = pd.merge(df, df1, on=['GENE_NAME'])"
   ]
  },
  {
   "cell_type": "code",
   "execution_count": 6,
   "metadata": {},
   "outputs": [
    {
     "data": {
      "text/plain": [
       "GENE_NAME                      0\n",
       "Nucleotide Change            298\n",
       "Protein Change              4393\n",
       "Other Mappings               154\n",
       "Alias                      11263\n",
       "Transcripts                  154\n",
       "Region                      9942\n",
       "Reported Classification        0\n",
       "Inferred Classification        0\n",
       "Source                         0\n",
       "Last Evaluated              1386\n",
       "Last Updated                   0\n",
       "URL                            0\n",
       "Submitter Comment          11396\n",
       "Assembly                    1236\n",
       "Chr                         1236\n",
       "Genomic Start               1328\n",
       "Genomic Stop                1327\n",
       "Ref                         1236\n",
       "Alt                         1236\n",
       "Accession                   1236\n",
       "Reported Ref                1427\n",
       "Reported Alt                1420\n",
       "dtype: int64"
      ]
     },
     "execution_count": 6,
     "metadata": {},
     "output_type": "execute_result"
    }
   ],
   "source": [
    "data.isnull().sum() #check for missing values"
   ]
  },
  {
   "cell_type": "code",
   "execution_count": 7,
   "metadata": {},
   "outputs": [],
   "source": [
    "#remove null values from Nucleotide Change column\n",
    "data = data[data['Nucleotide Change'].notna()]"
   ]
  },
  {
   "cell_type": "code",
   "execution_count": 8,
   "metadata": {},
   "outputs": [],
   "source": [
    "#select only desired columns datas\n",
    "data = data[['GENE_NAME','Assembly','Chr','Genomic Stop','Ref','Alt','Reported Classification']]"
   ]
  },
  {
   "cell_type": "code",
   "execution_count": 9,
   "metadata": {},
   "outputs": [],
   "source": [
    "#rename columns names\n",
    "data = data.rename(columns={'Genomic Stop':'Start','Reported Classification':'Classification'})"
   ]
  },
  {
   "cell_type": "code",
   "execution_count": 10,
   "metadata": {},
   "outputs": [
    {
     "data": {
      "text/plain": [
       "Uncertain significance                                        4308\n",
       "Pathogenic                                                    2486\n",
       "Likely benign                                                 2147\n",
       "Benign                                                        1575\n",
       "Likely pathogenic                                              658\n",
       "not provided                                                   476\n",
       "Conflicting interpretations of pathogenicity                   348\n",
       "VOUS                                                           316\n",
       "risk factor                                                     18\n",
       "drug response                                                   18\n",
       "Affects                                                         11\n",
       "Uncertain                                                        6\n",
       "Other Reportable                                                 6\n",
       "association                                                      6\n",
       "Benign(Duarte 2)                                                 4\n",
       "other                                                            4\n",
       "Pathogenic, other                                                2\n",
       "Conflicting interpretations of pathogenicity, not provided       2\n",
       "Benign(Duarte1) (Duarte 2)                                       1\n",
       "protective                                                       1\n",
       "Benign, other                                                    1\n",
       "Suspected Benign                                                 1\n",
       "Suspected Pathogenic                                             1\n",
       "Benign(Duarte 1)                                                 1\n",
       "Name: Classification, dtype: int64"
      ]
     },
     "execution_count": 10,
     "metadata": {},
     "output_type": "execute_result"
    }
   ],
   "source": [
    "data['Classification'].value_counts()"
   ]
  },
  {
   "cell_type": "code",
   "execution_count": 11,
   "metadata": {},
   "outputs": [],
   "source": [
    "#replace strings to maintain uniformity\n",
    "data['Classification'] = data['Classification'].str.replace('Benign, other','Benign')\n",
    "data['Classification'] = data['Classification'].str.replace('VOUS','Uncertain significance')\n",
    "data['Classification'] = data['Classification'].str.replace('Uncertain significance significance','Uncertain significance')\n",
    "data['Classification'] = data['Classification'].str.replace('Pathogenic, other','Likely pathogenic')"
   ]
  },
  {
   "cell_type": "code",
   "execution_count": 12,
   "metadata": {},
   "outputs": [
    {
     "data": {
      "text/plain": [
       "Uncertain significance                                        4624\n",
       "Pathogenic                                                    2486\n",
       "Likely benign                                                 2147\n",
       "Benign                                                        1576\n",
       "Likely pathogenic                                              660\n",
       "not provided                                                   476\n",
       "Conflicting interpretations of pathogenicity                   348\n",
       "risk factor                                                     18\n",
       "drug response                                                   18\n",
       "Affects                                                         11\n",
       "Uncertain                                                        6\n",
       "association                                                      6\n",
       "Other Reportable                                                 6\n",
       "other                                                            4\n",
       "Benign(Duarte 2)                                                 4\n",
       "Conflicting interpretations of pathogenicity, not provided       2\n",
       "Suspected Benign                                                 1\n",
       "Benign(Duarte1) (Duarte 2)                                       1\n",
       "protective                                                       1\n",
       "Suspected Pathogenic                                             1\n",
       "Benign(Duarte 1)                                                 1\n",
       "Name: Classification, dtype: int64"
      ]
     },
     "execution_count": 12,
     "metadata": {},
     "output_type": "execute_result"
    }
   ],
   "source": [
    "data['Classification'].value_counts()"
   ]
  },
  {
   "cell_type": "code",
   "execution_count": 13,
   "metadata": {},
   "outputs": [],
   "source": [
    "data['Classification'] = data['Classification'].str.replace('Suspected Pathogenic','Likely pathogenic')\n",
    "data['Classification'] = data['Classification'].str.replace('Suspected Benign','Likely benign')\n",
    "data['Classification'] = data['Classification'].str.replace('Uncertain','Uncertain significance')"
   ]
  },
  {
   "cell_type": "code",
   "execution_count": 14,
   "metadata": {},
   "outputs": [
    {
     "data": {
      "text/plain": [
       "Uncertain significance significance                           4624\n",
       "Pathogenic                                                    2486\n",
       "Likely benign                                                 2148\n",
       "Benign                                                        1576\n",
       "Likely pathogenic                                              661\n",
       "not provided                                                   476\n",
       "Conflicting interpretations of pathogenicity                   348\n",
       "risk factor                                                     18\n",
       "drug response                                                   18\n",
       "Affects                                                         11\n",
       "association                                                      6\n",
       "Other Reportable                                                 6\n",
       "Uncertain significance                                           6\n",
       "other                                                            4\n",
       "Benign(Duarte 2)                                                 4\n",
       "Conflicting interpretations of pathogenicity, not provided       2\n",
       "Benign(Duarte1) (Duarte 2)                                       1\n",
       "protective                                                       1\n",
       "Benign(Duarte 1)                                                 1\n",
       "Name: Classification, dtype: int64"
      ]
     },
     "execution_count": 14,
     "metadata": {},
     "output_type": "execute_result"
    }
   ],
   "source": [
    "data['Classification'].value_counts()"
   ]
  },
  {
   "cell_type": "code",
   "execution_count": 15,
   "metadata": {},
   "outputs": [],
   "source": [
    "data['Classification'] = data['Classification'].str.replace('Uncertain significance significance','Uncertain significance')"
   ]
  },
  {
   "cell_type": "code",
   "execution_count": 16,
   "metadata": {},
   "outputs": [
    {
     "data": {
      "text/plain": [
       "Uncertain significance                                        4630\n",
       "Pathogenic                                                    2486\n",
       "Likely benign                                                 2148\n",
       "Benign                                                        1576\n",
       "Likely pathogenic                                              661\n",
       "not provided                                                   476\n",
       "Conflicting interpretations of pathogenicity                   348\n",
       "risk factor                                                     18\n",
       "drug response                                                   18\n",
       "Affects                                                         11\n",
       "association                                                      6\n",
       "Other Reportable                                                 6\n",
       "other                                                            4\n",
       "Benign(Duarte 2)                                                 4\n",
       "Conflicting interpretations of pathogenicity, not provided       2\n",
       "Benign(Duarte1) (Duarte 2)                                       1\n",
       "protective                                                       1\n",
       "Benign(Duarte 1)                                                 1\n",
       "Name: Classification, dtype: int64"
      ]
     },
     "execution_count": 16,
     "metadata": {},
     "output_type": "execute_result"
    }
   ],
   "source": [
    "data['Classification'].value_counts()"
   ]
  },
  {
   "cell_type": "code",
   "execution_count": 17,
   "metadata": {},
   "outputs": [
    {
     "data": {
      "text/plain": [
       "Uncertain significance    4630\n",
       "Pathogenic                2486\n",
       "Likely benign             2148\n",
       "Benign                    1576\n",
       "Likely pathogenic          661\n",
       "Name: Classification, dtype: int64"
      ]
     },
     "execution_count": 17,
     "metadata": {},
     "output_type": "execute_result"
    }
   ],
   "source": [
    "data = data[~data.Classification.str.contains(\"association\")]\n",
    "data = data[~data.Classification.str.contains(\"Other Reportable\")]\n",
    "data = data[~data.Classification.str.contains(\"drug response\")]\n",
    "data = data[~data.Classification.str.contains(\"risk factor\")]\n",
    "data = data[~data.Classification.str.contains(\"not provided\")]\n",
    "data = data[~data.Classification.str.contains(\"other\")]\n",
    "data = data[~data.Classification.str.contains(\"Duarte\")]\n",
    "data = data[~data.Classification.str.contains(\"Conflicting interpretations of pathogenicity\")]\n",
    "data = data[~data.Classification.str.contains(\"Affects\")]\n",
    "data = data[~data.Classification.str.contains(\"protective\")]\n",
    "data = data[~data.Classification.str.contains(\"Conflicting interpretations of pathogenicity, not provided\")]\n",
    "data['Classification'].value_counts()"
   ]
  },
  {
   "cell_type": "code",
   "execution_count": null,
   "metadata": {},
   "outputs": [],
   "source": []
  },
  {
   "cell_type": "code",
   "execution_count": null,
   "metadata": {},
   "outputs": [],
   "source": []
  },
  {
   "cell_type": "code",
   "execution_count": null,
   "metadata": {},
   "outputs": [],
   "source": []
  },
  {
   "cell_type": "code",
   "execution_count": null,
   "metadata": {},
   "outputs": [],
   "source": []
  },
  {
   "cell_type": "code",
   "execution_count": null,
   "metadata": {},
   "outputs": [],
   "source": []
  },
  {
   "cell_type": "code",
   "execution_count": null,
   "metadata": {},
   "outputs": [],
   "source": []
  },
  {
   "cell_type": "code",
   "execution_count": null,
   "metadata": {},
   "outputs": [],
   "source": []
  }
 ],
 "metadata": {
  "kernelspec": {
   "display_name": "Python 3",
   "language": "python",
   "name": "python3"
  },
  "language_info": {
   "codemirror_mode": {
    "name": "ipython",
    "version": 3
   },
   "file_extension": ".py",
   "mimetype": "text/x-python",
   "name": "python",
   "nbconvert_exporter": "python",
   "pygments_lexer": "ipython3",
   "version": "3.7.6"
  }
 },
 "nbformat": 4,
 "nbformat_minor": 4
}
